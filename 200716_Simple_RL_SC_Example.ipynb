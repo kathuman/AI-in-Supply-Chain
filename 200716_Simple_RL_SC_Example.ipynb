{
  "nbformat": 4,
  "nbformat_minor": 0,
  "metadata": {
    "kernelspec": {
      "display_name": "Python 3",
      "language": "python",
      "name": "python3"
    },
    "language_info": {
      "codemirror_mode": {
        "name": "ipython",
        "version": 3
      },
      "file_extension": ".py",
      "mimetype": "text/x-python",
      "name": "python",
      "nbconvert_exporter": "python",
      "pygments_lexer": "ipython3",
      "version": "3.8.5"
    },
    "colab": {
      "name": "200716_Simple_RL_SC_Example.ipynb",
      "provenance": [],
      "include_colab_link": true
    }
  },
  "cells": [
    {
      "cell_type": "markdown",
      "metadata": {
        "id": "view-in-github",
        "colab_type": "text"
      },
      "source": [
        "<a href=\"https://colab.research.google.com/github/kathuman/AI-in-Supply-Chain/blob/main/200716_Simple_RL_SC_Example.ipynb\" target=\"_parent\"><img src=\"https://colab.research.google.com/assets/colab-badge.svg\" alt=\"Open In Colab\"/></a>"
      ]
    },
    {
      "cell_type": "markdown",
      "metadata": {
        "id": "jf1SE9WkjDTB"
      },
      "source": [
        "## What is reinforcement learning?\n",
        "\n",
        "Reinformcement learning is an area of machine learning that models agents that take actions in an environment and attempt to maximize a reward that they accumulate over time. It is therefore interested in optimizing the sequential decision making of these agents in a potentially complex environment. \n",
        "\n",
        "Along with Supervised and Unsupervised learning, Reinforcement learning is one of three basic machine learning paradigms.\n",
        "\n",
        "The agent uses trial and error to discover a solution to the problem of maximizing the reward and minimizing the penalties it obtains depending on the decisions it takes.\n",
        "\n",
        "The designer of a test environment and of the agent defines the the reward policy, this is the rules of the game, yet no hints or siggestions are given in the model about how to solve the problem. The agent will maximize the reward, first by performing random trials that gradually evolve to the use of sophisticated tactics. \n",
        "\n",
        "## Model Description\n",
        "\n",
        "In order to exploe the use of reinforcement learning in supply chains I have implemented a model in Python which I develop here step by step.\n",
        "\n",
        "This model consists of a single warehouse subject to a customer demand that has stochastic variability according to a probability distribution, for example Uniform beteen values a and b, U[a,b] The warehouse is therefore the decision making agent in this model.\n",
        "\n",
        "### Reward\n",
        "\n",
        "The objective of this warehouse is to maximize a reward, this is the revenue it obtains composed of income minus expenses.\n",
        "\n",
        "The Reward experienced by this Warehouse is the total revenue, which consists of\n",
        "    a.- Sales Price of the items sold\n",
        "    b.- MINUS the holding cost of the Inventory\n",
        "    c.- MINUS the penality for Customer Demand not met\n",
        "\n",
        "### Actions\n",
        "\n",
        "The warehouse holds inventory (no maximum, and held in whole quantities) and can take two actions:\n",
        "    a.- Sell inventory to a customer\n",
        "    b.- Receive inventory from its supplier \n",
        "The warehouse can only do one of this actions at a time.\n",
        "\n",
        "### State    \n",
        "The State of the model is the warehouse inventory level"
      ]
    },
    {
      "cell_type": "markdown",
      "metadata": {
        "id": "1JNu-9JrjDTD"
      },
      "source": [
        "## Model Development\n",
        "\n",
        "### Required Libraries\n",
        "\n",
        "We first identify the libraries that will be needed."
      ]
    },
    {
      "cell_type": "code",
      "metadata": {
        "id": "xCykzWZljDTE"
      },
      "source": [
        "import numpy as np      # Library required for matrix creation  and manipulation\n",
        "import math\n",
        "import matplotlib.pyplot as plt\n",
        "from matplotlib.ticker import StrMethodFormatter\n",
        "import time             # Library required to calculate execution time\n",
        "import pandas as pd     # Library required to manipulate Dataframes with the model results\n",
        "%matplotlib inline\n",
        "\n",
        "np.set_printoptions(precision=2, suppress=True)"
      ],
      "execution_count": null,
      "outputs": []
    },
    {
      "cell_type": "markdown",
      "metadata": {
        "id": "jjJlt1kzjDTI"
      },
      "source": [
        "### Model parameters\n",
        "\n",
        "The model has cost and price parameters that can be defined at the beginning of the model, and which will not substantially change when the model is executed."
      ]
    },
    {
      "cell_type": "code",
      "metadata": {
        "id": "lkyKgwNKjDTJ"
      },
      "source": [
        "cost_inventory = 2     # The cost of holding inventory\n",
        "purchase_price = 20    # The price at which the inventory is bought\n",
        "sales_price = 50       # The proce at which the inventory is sold"
      ],
      "execution_count": null,
      "outputs": []
    },
    {
      "cell_type": "markdown",
      "metadata": {
        "id": "NSm_POaHjDTM"
      },
      "source": [
        "The Warehouse has as many states as it has number of units. The number of units the warehouse will be able to contain is between 0 and max_state (Warehouse size). Also, the initial state (initial warehouse stock) will be a random number between 0 and max_state."
      ]
    },
    {
      "cell_type": "code",
      "metadata": {
        "id": "qrBb4E3xjDTN"
      },
      "source": [
        "max_state = 800\n",
        "initial_state = np.random.randint(max_state)"
      ],
      "execution_count": null,
      "outputs": []
    },
    {
      "cell_type": "markdown",
      "metadata": {
        "id": "IAc-wmoUjDTQ"
      },
      "source": [
        "R Matrix, the \"reward structure matrix\" is defined as a square matrix of size (max_state x max_state). It contains the rewards and therefore also defones the possible actions that can be taken. First we initialize the R Matrix, We then fill it with the reward values \n",
        "-The X and Y coordinates of the Matrix correspond to the initial and final values of the decision. \n",
        "\n",
        "For example, the R Matrix value at [20, 45] represents that the state is moving from 20 to 45, this means that 25 stock items have been added to the warehouse. Therefore the reward is negative and corresponding to the cost of purchasing the 25 new stock items PLUS the cost of maintaining the inventory at the beginning of the period. \n"
      ]
    },
    {
      "cell_type": "code",
      "metadata": {
        "id": "-Lf9erMEjDTR",
        "outputId": "e9ebe6d5-e68e-4980-c1df-5ada21b939b5"
      },
      "source": [
        "R = np.matrix(np.zeros([max_state,max_state]))\n",
        "\n",
        "for y in range(0, max_state):\n",
        "    for x in range(0, max_state):\n",
        "        R[x,y] = np.maximum((x-y)*sales_price,0)-np.maximum((y-x)*purchase_price,0)-x*cost_inventory\n",
        "        \n",
        "print('R: \\n', R)"
      ],
      "execution_count": null,
      "outputs": [
        {
          "output_type": "stream",
          "text": [
            "R: \n",
            " [[     0.    -20.    -40. ... -15940. -15960. -15980.]\n",
            " [    48.     -2.    -22. ... -15922. -15942. -15962.]\n",
            " [    96.     46.     -4. ... -15904. -15924. -15944.]\n",
            " ...\n",
            " [ 38256.  38206.  38156. ...  -1594.  -1614.  -1634.]\n",
            " [ 38304.  38254.  38204. ...  -1546.  -1596.  -1616.]\n",
            " [ 38352.  38302.  38252. ...  -1498.  -1548.  -1598.]]\n"
          ],
          "name": "stdout"
        }
      ]
    },
    {
      "cell_type": "markdown",
      "metadata": {
        "id": "tVE_xyAmkNwV"
      },
      "source": [
        "The Q matrix sapture the total future reward for an agent from a given state after a certain action, and it has the same dimensions than the R Matrix. It is initialized at the time of creation with random numbers."
      ]
    },
    {
      "cell_type": "code",
      "metadata": {
        "id": "CmvRRl5njDTV"
      },
      "source": [
        "Q = np.matrix(np.random.random([max_state,max_state]))"
      ],
      "execution_count": null,
      "outputs": []
    },
    {
      "cell_type": "markdown",
      "metadata": {
        "id": "_j_3ty3dkm0L"
      },
      "source": [
        "The learning and discount processes are also given parameters"
      ]
    },
    {
      "cell_type": "code",
      "metadata": {
        "id": "V1N6smJXkntU"
      },
      "source": [
        "learning_rate = 0.5\n",
        "discount = 0.7\n",
        "EPISODES = 10000 \n",
        "STEPS = 100\n",
        "Pepsilon_init = 0.8   # initial value for the decayed-epsilon-greedy method\n",
        "Pepsilon_end = 0.1    # final value for the decayed-epsilon-greedy method"
      ],
      "execution_count": null,
      "outputs": []
    },
    {
      "cell_type": "markdown",
      "metadata": {
        "id": "Ne3t_XVtk3sN"
      },
      "source": [
        "We now start defining the functions used. First a function to determine the available actions from which the next action can be chosen."
      ]
    },
    {
      "cell_type": "code",
      "metadata": {
        "id": "_frs5Ea0jDTY"
      },
      "source": [
        "def available_actions(state, customers):\n",
        "    # The available actions are \n",
        "    #    a.- Meeting a customer requirement (going to s: state-order)\n",
        "    #    b.- Buying Inventory from Supplier (going to s: state+purchase)\n",
        "    purchase = np.arange(state, max_state) # Calculate all possible future states due to purchases from the current state\n",
        "    # print('Purchase: ',purchase)\n",
        "    new_customers_state =[]\n",
        "    new_customers_state = [np.maximum(state-x,0) for x in customers] # calculate the possible states from customers in the current state\n",
        "    # print('new_customers_state: ', new_customers_state)\n",
        "    return np.concatenate((purchase,new_customers_state))    "
      ],
      "execution_count": null,
      "outputs": []
    },
    {
      "cell_type": "markdown",
      "metadata": {
        "id": "PQGf4pw0lNCB"
      },
      "source": [
        "Next, we define a function that chooses at random which action to be performed within the range of available actions. This function defines what will be the future action. There is a range of options which basically are:\n",
        "\n",
        "1.   Always choose the action that has the maximum Q value for the current_state (exploit)\n",
        "\n",
        "1.   Always choose a random action from the available actions for the current_state (explore)\n",
        "\n",
        "1.   Alternate between exploit and explore with a certain probability (which may change over time)\n",
        "\n",
        "The general recommnedation is to start exploring most of the time and gradually decrease exploration to maximize exploitation.\n",
        "\n",
        "For this we use the decayed-epsilon-greedy method where epsilon is the probability that a random action is chosen."
      ]
    },
    {
      "cell_type": "code",
      "metadata": {
        "id": "4g4mwvgijDTc"
      },
      "source": [
        "def sample_next_action(available_act, epsilon):\n",
        "    # here we choose the type of next action to take. 1 for a random next action with probability epsilon \n",
        "    # and 0 for a greedy next action with probability (1-epsilon)\n",
        "    random_action = np.random.binomial(n=1, p=epsilon, size=1)\n",
        "    \n",
        "    if random_action == 1:\n",
        "        # This is the option for full exploration - always random\n",
        "        # print('random action')\n",
        "        next_action = int(np.random.choice(available_act, 1))\n",
        "    else:\n",
        "        # This is the option for full exploitation - always use what we know (Greedy method)\n",
        "        # Choose the next actions from the available actions, and the one with the highest Q Value\n",
        "        # print('greedy action')\n",
        "        next_action = np.int(np.where(Q[current_state,] == np.max(Q[current_state,available_act]))[1])\n",
        "    \n",
        "    # This section just caluclates the amount that is being sold or purchsed, if at all\n",
        "    if next_action < current_state:\n",
        "        Qsale = current_state-next_action\n",
        "        Qpurchase = 0\n",
        "    else: \n",
        "        Qpurchase = next_action - current_state\n",
        "        Qsale = 0\n",
        "    return next_action, Qsale, Qpurchase"
      ],
      "execution_count": null,
      "outputs": []
    },
    {
      "cell_type": "code",
      "metadata": {
        "id": "3zVpIIb3jDTf"
      },
      "source": [
        "def cost_inventory_backlog(current_state):\n",
        "    if current_state<=0:\n",
        "        return cost_backlog\n",
        "    else:\n",
        "        return cost_inventory"
      ],
      "execution_count": null,
      "outputs": []
    },
    {
      "cell_type": "code",
      "metadata": {
        "id": "PH4hQO81jDTi"
      },
      "source": [
        "# this function updates the Q matrix according to the path selected and the Q learning algorithm\n",
        "def update(current_state, action):\n",
        "    '''\n",
        "    In this function we update the Q table with the formula that requires the following parameters\n",
        "    a.- Q[current_state, action] = value to update. In this case, the action is the future state value we decided to take.\n",
        "    b.- learning_rate = value between 0 and 1 indicating how much new information overrides old information.\n",
        "    c.- R[current_state, action] = reward obtained when transitioning from current_state to future_state=action (in the case of our model)\n",
        "    d.- max a for Q[future_state, a] = the max Q value of the possible actions in the future_state \n",
        "    '''\n",
        "    \n",
        "    max_index = np.where(Q[action,] == np.max(Q[action,]))[1] # index for the maximum Q value in the future_state\n",
        "    # print('Q[action,]: \\n', Q[action,])\n",
        "    # print('Current State: ', current_state)\n",
        "    # print('Action: ', action)\n",
        "    # print('Max Index:', max_index)\n",
        "    \n",
        "    # just in case there are more than one maximums, in which case we choose one at random\n",
        "    if max_index.shape[0] > 1:\n",
        "        max_index = int(np.random.choice(max_index, size=1))\n",
        "    else:\n",
        "        max_index = int(max_index)\n",
        "    max_value = Q[action, max_index] # this is the maximum Q valuein the future state given the action that generates that maximum value\n",
        "    \n",
        "    # Q learning formula\n",
        "    Q[current_state, action] = (1-learning_rate)*Q[current_state, action] + learning_rate*(R[current_state, action] + discount*max_value) "
      ],
      "execution_count": null,
      "outputs": []
    },
    {
      "cell_type": "markdown",
      "metadata": {
        "id": "sQtgLVBZjDTl"
      },
      "source": [
        "![Image of QFormula](https://randomant.net/images/algorithm-behind-curtain-2/q_learning_algorithm.jpg)"
      ]
    },
    {
      "cell_type": "markdown",
      "metadata": {
        "id": "103VrxIujDTm"
      },
      "source": [
        "## Training the simulation"
      ]
    },
    {
      "cell_type": "code",
      "metadata": {
        "id": "Vks6VeBzjDTn"
      },
      "source": [
        "# Training\n",
        "\n",
        "av_reward_dataset =[]\n",
        "reward_step = [] \n",
        "total_reward = []\n",
        "calculation_times = []\n",
        "\n",
        "current_state = np.random.randint(0, int(Q.shape[0]))\n",
        "epsilon = Pepsilon_init\n",
        "epsilon_delta = (Pepsilon_init - Pepsilon_end)/EPISODES\n",
        "\n",
        "for episode in range(EPISODES):\n",
        "    # Initialize values for Step\n",
        "    total_reward_episode = 0\n",
        "    start_time = time.time()\n",
        "    for step in range(STEPS):\n",
        "        customers = []\n",
        "        customers.append(np.random.randint(0,15))\n",
        "        available_act = available_actions(current_state, customers)\n",
        "        action = sample_next_action(available_act, epsilon)\n",
        "        update(current_state, action[0])\n",
        "        # record the states for the step\n",
        "        # reward_step.append(R[current_state, action[0]])\n",
        "        total_reward_episode += R[current_state, action[0]]\n",
        "        # update the state for the next step\n",
        "        current_state = action[0]\n",
        "    # record the states for the Episode\n",
        "    total_reward.append(total_reward_episode) # Total reward for the episode\n",
        "    calculation_times.append(time.time()-start_time)\n",
        "    # Update parameters for the next episode\n",
        "    epsilon = Pepsilon_init - episode*epsilon_delta"
      ],
      "execution_count": null,
      "outputs": []
    },
    {
      "cell_type": "code",
      "metadata": {
        "id": "tVwg5tqbjDTq",
        "outputId": "e9e34c84-8200-45b2-b639-42814802997d"
      },
      "source": [
        "import matplotlib.pyplot as plt\n",
        "from matplotlib.ticker import StrMethodFormatter\n",
        "%matplotlib inline\n",
        "\n",
        "fig, axs = plt.subplots(nrows=2, ncols=1, figsize=(7, 7))\n",
        "axs[0].plot(total_reward)\n",
        "axs[0].set_title('Total Rewards per Episode')\n",
        "axs[0].set_ylabel('Total Reward [$]')\n",
        "\n",
        "axs[1].plot(calculation_times)\n",
        "axs[1].set_title('Calculation Times per Episode')\n",
        "axs[1].set_xlabel('Episodes')\n",
        "axs[1].set_ylabel('Calculation times [s]')\n",
        "\n",
        "plt.show()"
      ],
      "execution_count": null,
      "outputs": [
        {
          "output_type": "display_data",
          "data": {
            "image/png": "[encoded data removed]",
            "text/plain": [
              "<Figure size 504x504 with 2 Axes>"
            ]
          },
          "metadata": {
            "tags": [],
            "needs_background": "light"
          }
        }
      ]
    },
    {
      "cell_type": "code",
      "metadata": {
        "id": "XvQ5LgkRjDTt"
      },
      "source": [
        "MA_total_reward = pd.DataFrame(total_reward)"
      ],
      "execution_count": null,
      "outputs": []
    },
    {
      "cell_type": "code",
      "metadata": {
        "id": "ppQy3XDJjDTw",
        "outputId": "22af1076-2945-4473-a0ef-920b4a0b32f8"
      },
      "source": [
        "Rolling_total_reward = MA_total_reward.rolling(window=50).mean()\n",
        "\n",
        "plt.figure(figsize=(10,8))\n",
        "plt.plot(MA_total_reward, label='Episode')\n",
        "plt.plot(Rolling_total_reward, color='r', label ='MA(50)')\n",
        "plt.title('Total Rewards')\n",
        "plt.ylabel('Rewards [$]')\n",
        "plt.xlabel('Episodes')\n",
        "plt.legend()\n",
        "plt.show()"
      ],
      "execution_count": null,
      "outputs": [
        {
          "output_type": "display_data",
          "data": {
            "image/png": "[encoded data removed]",
            "text/plain": [
              "<Figure size 720x576 with 1 Axes>"
            ]
          },
          "metadata": {
            "tags": [],
            "needs_background": "light"
          }
        }
      ]
    },
    {
      "cell_type": "markdown",
      "metadata": {
        "id": "QshDIrbmjDT0"
      },
      "source": [
        "## Test the simulation"
      ]
    },
    {
      "cell_type": "code",
      "metadata": {
        "id": "7MCrZLKAjDT0",
        "outputId": "fac0fc23-7a46-4cad-fca9-110bac739da7"
      },
      "source": [
        "current_state = np.random.randint(0, int(Q.shape[0]))\n"
      ],
      "execution_count": null,
      "outputs": [
        {
          "output_type": "stream",
          "text": [
            "3\n"
          ],
          "name": "stdout"
        }
      ]
    },
    {
      "cell_type": "code",
      "metadata": {
        "id": "niYlXGrVjDT3",
        "outputId": "7cf12bf5-57f7-423b-f89f-a5d670aed353"
      },
      "source": [
        "print(current_state)"
      ],
      "execution_count": null,
      "outputs": [
        {
          "output_type": "stream",
          "text": [
            "6\n"
          ],
          "name": "stdout"
        }
      ]
    },
    {
      "cell_type": "code",
      "metadata": {
        "id": "5C6F-CnKjDT6",
        "outputId": "00ee5b9e-eb5e-4509-9f5b-4adfd959913a"
      },
      "source": [
        "customers = []\n",
        "customers.append(np.random.randint(0,15))\n",
        "available_act = available_actions(current_state, customers)\n",
        "print('Customers:', customers)\n",
        "print('available_act: ', available_act)"
      ],
      "execution_count": null,
      "outputs": [
        {
          "output_type": "stream",
          "text": [
            "Customers: [8]\n",
            "available_act:  [6 7 8 9 0]\n"
          ],
          "name": "stdout"
        }
      ]
    },
    {
      "cell_type": "code",
      "metadata": {
        "id": "LXQ3k4l1jDT8",
        "outputId": "778453f9-3317-46a1-af20-537501123a02"
      },
      "source": [
        "epsilon = 0.1\n",
        "action = sample_next_action(available_act, epsilon)\n",
        "print('Action go to state {} from state {}, by Selling {} units and Purchasing {} units'.format(action[0], current_state, action[1],action[2]))"
      ],
      "execution_count": null,
      "outputs": [
        {
          "output_type": "stream",
          "text": [
            "greedy action\n",
            "Action go to state 7 from state 6, by Selling 0 units and Purchasing 1 units\n"
          ],
          "name": "stdout"
        }
      ]
    },
    {
      "cell_type": "code",
      "metadata": {
        "id": "FWexgglDjDUA",
        "outputId": "9bde4801-940f-45df-9ec8-6e1d02537e3c"
      },
      "source": [
        "update(current_state, action[0])\n",
        "\n",
        "current_state = action[0]\n",
        "\n",
        "np.set_printoptions(precision=2, suppress=True)\n",
        "print('Q: \\n', Q)"
      ],
      "execution_count": null,
      "outputs": [
        {
          "output_type": "stream",
          "text": [
            "Q[action,]: \n",
            " [[0.23 0.79 0.53 0.14 0.76 0.3  0.2  0.28 0.14 0.36]]\n",
            "Current State:  6\n",
            "Action:  7\n",
            "Max Index: [1]\n",
            "Q: \n",
            " [[  0.38   0.96   0.     0.35   0.76   1.     0.24   0.48   0.5    0.42]\n",
            " [  0.67   0.03   0.27   0.03   0.57   0.91   0.29   0.09   0.48   0.54]\n",
            " [  0.4    0.67   0.27   0.23   0.81   0.64   0.72   0.44   0.46   0.37]\n",
            " [  0.41   0.82   0.75   0.08  -6.38   0.6    0.11   0.6    0.14   0.75]\n",
            " [  0.66   0.39   0.8    0.62   0.16   0.16 -12.77   0.07   0.85   0.45]\n",
            " [  0.33   0.58   0.     0.3    0.56   0.61   0.97   0.62   0.5    0.57]\n",
            " [  0.37   0.61   0.24   0.05   0.6    0.6    0.72  -7.52   0.36   0.62]\n",
            " [  0.23   0.79   0.53   0.14   0.76   0.3    0.2    0.28   0.14   0.36]\n",
            " [  0.71   0.94   0.3    0.42   0.11   0.69   0.99   0.66   0.67   0.86]\n",
            " [  0.76   0.42   0.25   0.8    0.42   0.82   0.36   0.88   0.64   0.21]]\n"
          ],
          "name": "stdout"
        }
      ]
    },
    {
      "cell_type": "code",
      "metadata": {
        "id": "l3eOEAXdjDUD",
        "outputId": "aa444b06-6e15-4712-d993-9d4678ea1e16"
      },
      "source": [
        "print(action[0])"
      ],
      "execution_count": null,
      "outputs": [
        {
          "output_type": "stream",
          "text": [
            "7\n"
          ],
          "name": "stdout"
        }
      ]
    },
    {
      "cell_type": "code",
      "metadata": {
        "id": "HwusRR2sjDUF"
      },
      "source": [
        ""
      ],
      "execution_count": null,
      "outputs": []
    }
  ]
}